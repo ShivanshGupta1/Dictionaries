{
  "nbformat": 4,
  "nbformat_minor": 0,
  "metadata": {
    "colab": {
      "name": "Dictionary (GitHub).ipynb",
      "provenance": [],
      "collapsed_sections": [],
      "authorship_tag": "ABX9TyOROCkqKLgnRkaHHPrBtVZX",
      "include_colab_link": true
    },
    "kernelspec": {
      "name": "python3",
      "display_name": "Python 3"
    }
  },
  "cells": [
    {
      "cell_type": "markdown",
      "metadata": {
        "id": "view-in-github",
        "colab_type": "text"
      },
      "source": [
        "<a href=\"https://colab.research.google.com/github/ShivanshGupta1/Dictionaries/blob/main/Dictionary_(GitHub).ipynb\" target=\"_parent\"><img src=\"https://colab.research.google.com/assets/colab-badge.svg\" alt=\"Open In Colab\"/></a>"
      ]
    },
    {
      "cell_type": "code",
      "metadata": {
        "id": "nmwB7pgkS2Gi",
        "colab": {
          "base_uri": "https://localhost:8080/",
          "height": 34
        },
        "outputId": "fc082a3b-9341-4689-99cf-6867393e4f89"
      },
      "source": [
        "myDictionary = {} #empty dictionary\n",
        "#dictionary is data type, like real dictionaries, it has key:value, key cannot repeat, but values can\n",
        "print(type(myDictionary))"
      ],
      "execution_count": null,
      "outputs": [
        {
          "output_type": "stream",
          "text": [
            "<class 'dict'>\n"
          ],
          "name": "stdout"
        }
      ]
    },
    {
      "cell_type": "code",
      "metadata": {
        "id": "xdl1UExcTago",
        "colab": {
          "base_uri": "https://localhost:8080/",
          "height": 34
        },
        "outputId": "f37f9681-9e9a-459d-d320-203e43d091ae"
      },
      "source": [
        "# why dict, why not list = [name,value,etc.]\n",
        "#list makes serpeate data structures, we have to realte and remember them\n",
        "#but dictionaries can stores in one\n",
        "#one key can have multiple values\n",
        "myDictionary = {\"Name\":\"Shivansh\", \"Age\":12,\"Adress\":\"Gurugram\"} #creating a dictionary, with keys such as name, age, adress and values like shivash,12,gurugram\n",
        "print(myDictionary)"
      ],
      "execution_count": null,
      "outputs": [
        {
          "output_type": "stream",
          "text": [
            "{'Name': 'Shivansh', 'Age': 12, 'Adress': 'Gurugram'}\n"
          ],
          "name": "stdout"
        }
      ]
    },
    {
      "cell_type": "code",
      "metadata": {
        "id": "J1fZ3Z9yVt5b",
        "colab": {
          "base_uri": "https://localhost:8080/",
          "height": 130
        },
        "outputId": "a2f44d26-eef4-4611-f0fd-3a9d1feb7382"
      },
      "source": [
        "# to put multiple values in one key we use {}, which makes a set, therfore, it does not print the values in order, we can also use tupples ()\n",
        "myDictionary = {\"Shivansh\":{12,9800,\"Gurugram\"}, \"Vivaan\":\\\n",
        "                {12,47,\"Jaipur\"}}\n",
        "print(myDictionary)\n"
      ],
      "execution_count": null,
      "outputs": [
        {
          "output_type": "error",
          "ename": "SyntaxError",
          "evalue": "ignored",
          "traceback": [
            "\u001b[0;36m  File \u001b[0;32m\"<ipython-input-3-3aefe79a6592>\"\u001b[0;36m, line \u001b[0;32m4\u001b[0m\n\u001b[0;31m    a = new C()\u001b[0m\n\u001b[0m            ^\u001b[0m\n\u001b[0;31mSyntaxError\u001b[0m\u001b[0;31m:\u001b[0m invalid syntax\n"
          ]
        }
      ]
    },
    {
      "cell_type": "code",
      "metadata": {
        "id": "NHiRv29FWk_p",
        "colab": {
          "base_uri": "https://localhost:8080/",
          "height": 215
        },
        "outputId": "d167031b-17bf-4559-c9ca-c09db44fa699"
      },
      "source": [
        "#how to access/search value from key\n",
        "myDictionary = {\"Name\":\"Shivansh\", \"Age\":12,\"Adress\":\"Gurugram\"}\n",
        "print(myDictionary[\"Name\"])\n",
        "#if we search a key, that is not present in the dictionary, we get a KeyError\n",
        "print(myDictionary[\"Any\"])"
      ],
      "execution_count": null,
      "outputs": [
        {
          "output_type": "stream",
          "text": [
            "Shivansh\n"
          ],
          "name": "stdout"
        },
        {
          "output_type": "error",
          "ename": "KeyError",
          "evalue": "ignored",
          "traceback": [
            "\u001b[0;31m---------------------------------------------------------------------------\u001b[0m",
            "\u001b[0;31mKeyError\u001b[0m                                  Traceback (most recent call last)",
            "\u001b[0;32m<ipython-input-5-839a63dcc3f6>\u001b[0m in \u001b[0;36m<module>\u001b[0;34m()\u001b[0m\n\u001b[1;32m      3\u001b[0m \u001b[0mprint\u001b[0m\u001b[0;34m(\u001b[0m\u001b[0mmyDictionary\u001b[0m\u001b[0;34m[\u001b[0m\u001b[0;34m\"Name\"\u001b[0m\u001b[0;34m]\u001b[0m\u001b[0;34m)\u001b[0m\u001b[0;34m\u001b[0m\u001b[0;34m\u001b[0m\u001b[0m\n\u001b[1;32m      4\u001b[0m \u001b[0;31m#if we search a key, that is not present in the dictionary, we get a KeyError\u001b[0m\u001b[0;34m\u001b[0m\u001b[0;34m\u001b[0m\u001b[0;34m\u001b[0m\u001b[0m\n\u001b[0;32m----> 5\u001b[0;31m \u001b[0mprint\u001b[0m\u001b[0;34m(\u001b[0m\u001b[0mmyDictionary\u001b[0m\u001b[0;34m[\u001b[0m\u001b[0;34m\"Any\"\u001b[0m\u001b[0;34m]\u001b[0m\u001b[0;34m)\u001b[0m\u001b[0;34m\u001b[0m\u001b[0;34m\u001b[0m\u001b[0m\n\u001b[0m",
            "\u001b[0;31mKeyError\u001b[0m: 'Any'"
          ]
        }
      ]
    },
    {
      "cell_type": "code",
      "metadata": {
        "id": "FAXOfP8RXiWH",
        "colab": {
          "base_uri": "https://localhost:8080/",
          "height": 34
        },
        "outputId": "ead73d9f-7082-48f9-ab1f-089b68167aa5"
      },
      "source": [
        "# to delete an element (key) from a dictionary, we simply use the del keyword, such as below\n",
        "myDictionary = {\"Name\":\"Shivansh\", \"Age\":12,\"Adress\":\"Gurugram\"}\n",
        "del myDictionary[\"Name\"]\n",
        "print(myDictionary)"
      ],
      "execution_count": null,
      "outputs": [
        {
          "output_type": "stream",
          "text": [
            "{'Age': 12, 'Adress': 'Gurugram'}\n"
          ],
          "name": "stdout"
        }
      ]
    },
    {
      "cell_type": "code",
      "metadata": {
        "id": "-4atQc57YIFR",
        "colab": {
          "base_uri": "https://localhost:8080/",
          "height": 198
        },
        "outputId": "d46cfa2b-b10a-4e9d-d68a-cadf0e6b2a23"
      },
      "source": [
        "#anything that is reserved is a keyword - for, if, in, del, etc.\n",
        "#to delete entire dictonary we use the del keyword\n",
        "myDictionary = {\"Name\":\"Shivansh\", \"Age\":12,\"Adress\":\"Gurugram\"}\n",
        "del myDictionary\n",
        "print(myDictionary) # this will throw an error as the dictonary has been deleted"
      ],
      "execution_count": null,
      "outputs": [
        {
          "output_type": "error",
          "ename": "NameError",
          "evalue": "ignored",
          "traceback": [
            "\u001b[0;31m---------------------------------------------------------------------------\u001b[0m",
            "\u001b[0;31mNameError\u001b[0m                                 Traceback (most recent call last)",
            "\u001b[0;32m<ipython-input-7-40d4e1e50103>\u001b[0m in \u001b[0;36m<module>\u001b[0;34m()\u001b[0m\n\u001b[1;32m      3\u001b[0m \u001b[0mmyDictionary\u001b[0m \u001b[0;34m=\u001b[0m \u001b[0;34m{\u001b[0m\u001b[0;34m\"Name\"\u001b[0m\u001b[0;34m:\u001b[0m\u001b[0;34m\"Shivansh\"\u001b[0m\u001b[0;34m,\u001b[0m \u001b[0;34m\"Age\"\u001b[0m\u001b[0;34m:\u001b[0m\u001b[0;36m12\u001b[0m\u001b[0;34m,\u001b[0m\u001b[0;34m\"Adress\"\u001b[0m\u001b[0;34m:\u001b[0m\u001b[0;34m\"Gurugram\"\u001b[0m\u001b[0;34m}\u001b[0m\u001b[0;34m\u001b[0m\u001b[0;34m\u001b[0m\u001b[0m\n\u001b[1;32m      4\u001b[0m \u001b[0;32mdel\u001b[0m \u001b[0mmyDictionary\u001b[0m\u001b[0;34m\u001b[0m\u001b[0;34m\u001b[0m\u001b[0m\n\u001b[0;32m----> 5\u001b[0;31m \u001b[0mprint\u001b[0m\u001b[0;34m(\u001b[0m\u001b[0mmyDictionary\u001b[0m\u001b[0;34m)\u001b[0m \u001b[0;31m# this will throw an erro as the dictonary has been deleted\u001b[0m\u001b[0;34m\u001b[0m\u001b[0;34m\u001b[0m\u001b[0m\n\u001b[0m",
            "\u001b[0;31mNameError\u001b[0m: name 'myDictionary' is not defined"
          ]
        }
      ]
    },
    {
      "cell_type": "code",
      "metadata": {
        "id": "jusZYQ_TZMTj",
        "colab": {
          "base_uri": "https://localhost:8080/",
          "height": 51
        },
        "outputId": "2a4f0cfd-69cf-45f2-f74e-ffd5e9831bd9"
      },
      "source": [
        "# a dictonary constructor is making an object of the dictionary class, there are multiple ways to make a dictionary\n",
        "# way1 if using{}\n",
        "#way 2 is as below \n",
        "any = dict([(\"Shivansh\",12),(\"Vivaan\",13),(\"Kanishk\",12)])\n",
        "print(any)\n",
        "print(type(any))"
      ],
      "execution_count": null,
      "outputs": [
        {
          "output_type": "stream",
          "text": [
            "{'Shivansh': 12, 'Vivaan': 13, 'Kanishk': 12}\n",
            "<class 'dict'>\n"
          ],
          "name": "stdout"
        }
      ]
    },
    {
      "cell_type": "code",
      "metadata": {
        "id": "r64V_AkPaRMn",
        "colab": {
          "base_uri": "https://localhost:8080/",
          "height": 34
        },
        "outputId": "e8c4a642-e420-4110-b226-ef2787593cf6"
      },
      "source": [
        "#way 3 to create a dictionary\n",
        "any = dict(Shivansh=12, Vivaan=13, Kanishk=12)\n",
        "print(any,type(any))"
      ],
      "execution_count": null,
      "outputs": [
        {
          "output_type": "stream",
          "text": [
            "{'Shivansh': 12, 'Vivaan': 13, 'Kanishk': 12} <class 'dict'>\n"
          ],
          "name": "stdout"
        }
      ]
    },
    {
      "cell_type": "code",
      "metadata": {
        "id": "vQ9Ze3voagCB",
        "colab": {
          "base_uri": "https://localhost:8080/",
          "height": 130
        },
        "outputId": "880d12d1-11fa-42d5-cca1-7b5d4872b728"
      },
      "source": [
        "any = dict(1=12, 2=13, 3=12) #will give an error, as this expression is not possible, which is why we have to use strings in the other ways\n",
        "print(any)"
      ],
      "execution_count": null,
      "outputs": [
        {
          "output_type": "error",
          "ename": "SyntaxError",
          "evalue": "ignored",
          "traceback": [
            "\u001b[0;36m  File \u001b[0;32m\"<ipython-input-11-3f91fc4d08bb>\"\u001b[0;36m, line \u001b[0;32m1\u001b[0m\n\u001b[0;31m    any = dict(1=12, 2=13, 3=12)\u001b[0m\n\u001b[0m              ^\u001b[0m\n\u001b[0;31mSyntaxError\u001b[0m\u001b[0;31m:\u001b[0m keyword can't be an expression\n"
          ]
        }
      ]
    },
    {
      "cell_type": "code",
      "metadata": {
        "id": "jOSvwv5FbNuf",
        "colab": {
          "base_uri": "https://localhost:8080/",
          "height": 34
        },
        "outputId": "d717a1d8-7c88-4988-86e4-ce460b2083d1"
      },
      "source": [
        "#to add an element(key) to a dictionary, we do\n",
        "any = dict(Shivansh=12, Vivaan=13, Kanishk=12)\n",
        "any[\"Sahib\"]=12\n",
        "print(any)"
      ],
      "execution_count": null,
      "outputs": [
        {
          "output_type": "stream",
          "text": [
            "{'Shivansh': 12, 'Vivaan': 13, 'Kanishk': 12, 'Sahib': 12}\n"
          ],
          "name": "stdout"
        }
      ]
    },
    {
      "cell_type": "code",
      "metadata": {
        "id": "mWADopHsnfmC",
        "colab": {
          "base_uri": "https://localhost:8080/",
          "height": 54
        },
        "outputId": "95b2e035-7196-49e6-a4c4-d1a08d9eda86"
      },
      "source": [
        "#making a nested dictionary\n",
        "childNames = {\"Child1\":{\"Name\":\"Shivansh\", \"Age\":12,\"Roll No\":25},\n",
        "              \"Child2\":{\"Name\":\"Vivaan\", \"Age\":13,\"Roll No\":27},\n",
        "              \"Child3\":{\"Name\":\"Sahib\", \"Age\":12,\"Roll No\":24}\n",
        "              }\n",
        "print(childNames)"
      ],
      "execution_count": null,
      "outputs": [
        {
          "output_type": "stream",
          "text": [
            "{'Child1': {'Name': 'Shivansh', 'Age': 12, 'Roll No': 25}, 'Child2': {'Name': 'Vivaan', 'Age': 13, 'Roll No': 27}, 'Child3': {'Name': 'Sahib', 'Age': 12, 'Roll No': 24}}\n"
          ],
          "name": "stdout"
        }
      ]
    },
    {
      "cell_type": "code",
      "metadata": {
        "id": "pA0Bz_gLoZl2",
        "colab": {
          "base_uri": "https://localhost:8080/",
          "height": 34
        },
        "outputId": "8a2c606a-4968-4804-b262-6d3160aecf94"
      },
      "source": [
        "# acessing/searching values in a nested dictionary\n",
        "childNames = {\"Child1\":{\"Name\":\"Shivansh\", \"Age\":12,\"Roll No\":25},\n",
        "              \"Child2\":{\"Name\":\"Vivaan\", \"Age\":13,\"Roll No\":27},\n",
        "              \"Child3\":{\"Name\":\"Sahib\", \"Age\":12,\"Roll No\":24}\n",
        "              }\n",
        "print(childNames[\"Child1\"][\"Name\"])"
      ],
      "execution_count": null,
      "outputs": [
        {
          "output_type": "stream",
          "text": [
            "Shivansh\n"
          ],
          "name": "stdout"
        }
      ]
    },
    {
      "cell_type": "code",
      "metadata": {
        "id": "ZPei6FDcpN-j",
        "colab": {
          "base_uri": "https://localhost:8080/",
          "height": 51
        },
        "outputId": "a03462d9-6a92-47c0-b066-1a8a3c55d5a5"
      },
      "source": [
        "#to check for the keys in a nested dictionary\n",
        "childNames = {\"Child1\":{\"Name\":\"Shivansh\", \"Age\":12,\"Roll No\":25},\n",
        "              \"Child2\":{\"Name\":\"Vivaan\", \"Age\":13,\"Roll No\":27},\n",
        "              \"Child3\":{\"Name\":\"Sahib\", \"Age\":12,\"Roll No\":24}\n",
        "              }\n",
        "print(childNames.keys()) \n",
        "for i in childNames: # for every key in childNames\n",
        "  if i ==\"Child2\": #if that key is \"Child2\"\n",
        "    print(\"Yes, it is there\") #print \"Yes, it is there\""
      ],
      "execution_count": null,
      "outputs": [
        {
          "output_type": "stream",
          "text": [
            "dict_keys(['Child1', 'Child2', 'Child3'])\n",
            "Yes, it is there\n"
          ],
          "name": "stdout"
        }
      ]
    },
    {
      "cell_type": "code",
      "metadata": {
        "id": "ywMG-3qHrycX",
        "colab": {
          "base_uri": "https://localhost:8080/",
          "height": 54
        },
        "outputId": "961c6499-e401-4dc9-f280-6e70fadce890"
      },
      "source": [
        "# to update in a dictionary\n",
        "childNames = {\"Child1\":{\"Name\":\"Shivansh\", \"Age\":12,\"Roll No\":25},\n",
        "              \"Child2\":{\"Name\":\"Vivaan\", \"Age\":13,\"Roll No\":27},\n",
        "              \"Child3\":{\"Name\":\"Sahib\", \"Age\":12,\"Roll No\":24}\n",
        "              }\n",
        "Child4 = {\"Name\":\"Kanishk\",\"Age\":12, \"Roll No \":14};\n",
        "childNames.update({\"Child4\":Child4}) #the arguement update takes are in a dictionary, with \"Child4\" as the key and Child4 as the value\n",
        "print(childNames)"
      ],
      "execution_count": null,
      "outputs": [
        {
          "output_type": "stream",
          "text": [
            "{'Child1': {'Name': 'Shivansh', 'Age': 12, 'Roll No': 25}, 'Child2': {'Name': 'Vivaan', 'Age': 13, 'Roll No': 27}, 'Child3': {'Name': 'Sahib', 'Age': 12, 'Roll No': 24}, 'Child4': {'Name': 'Kanishk', 'Age': 12, 'Roll No ': 14}}\n"
          ],
          "name": "stdout"
        }
      ]
    }
  ]
}